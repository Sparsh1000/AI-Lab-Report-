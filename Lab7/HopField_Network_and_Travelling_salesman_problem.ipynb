{
  "nbformat": 4,
  "nbformat_minor": 0,
  "metadata": {
    "colab": {
      "provenance": []
    },
    "kernelspec": {
      "name": "python3",
      "display_name": "Python 3"
    },
    "language_info": {
      "name": "python"
    }
  },
  "cells": [
    {
      "cell_type": "markdown",
      "source": [
        "# **Traveling** **Salesman** **Problem**\n"
      ],
      "metadata": {
        "id": "HgfNd8fE8NBo"
      }
    },
    {
      "cell_type": "code",
      "source": [
        "# Number of cities\n",
        "N = 10\n",
        "\n",
        "city_x = np.random.rand((10))\n",
        "city_y = np.random.rand((10))\n",
        "\n",
        "print('The co-ordinates of the 10 cities are:')\n",
        "for city in zip(city_x, city_y):\n",
        "    print(city)"
      ],
      "metadata": {
        "colab": {
          "base_uri": "https://localhost:8080/"
        },
        "id": "5ubf3kr4z4lO",
        "outputId": "569212db-e90b-4325-fafe-3dbb0a72c814"
      },
      "execution_count": 5,
      "outputs": [
        {
          "output_type": "stream",
          "name": "stdout",
          "text": [
            "The co-ordinates of the 10 cities are:\n",
            "(0.8559722147714083, 0.7741812784934693)\n",
            "(0.15474392654954439, 0.6301304359607225)\n",
            "(0.951305860955707, 0.6980338047050543)\n",
            "(0.5052214507024487, 0.7335680313898814)\n",
            "(0.16053977467185598, 0.15090451469904154)\n",
            "(0.09303616838680928, 0.5676657299278218)\n",
            "(0.9406672719697003, 0.44891489034282317)\n",
            "(0.29761822451259634, 0.5237932134056215)\n",
            "(0.6911957369376315, 0.5689129646285255)\n",
            "(0.5884123530844566, 0.9868335585630819)\n"
          ]
        }
      ]
    },
    {
      "cell_type": "code",
      "source": [
        "plt.plot(city_x, city_y, 'o')\n",
        "plt.title('Map of cities')"
      ],
      "metadata": {
        "colab": {
          "base_uri": "https://localhost:8080/",
          "height": 298
        },
        "id": "NqepsGcyz5xD",
        "outputId": "d3d62018-827b-491c-fc8f-8526a592a144"
      },
      "execution_count": 6,
      "outputs": [
        {
          "output_type": "execute_result",
          "data": {
            "text/plain": [
              "Text(0.5, 1.0, 'Map of cities')"
            ]
          },
          "metadata": {},
          "execution_count": 6
        },
        {
          "output_type": "display_data",
          "data": {
            "text/plain": [
              "<Figure size 432x288 with 1 Axes>"
            ],
            "image/png": "[encoded data removed]"
          },
          "metadata": {
            "needs_background": "light"
          }
        }
      ]
    },
    {
      "cell_type": "code",
      "source": [
        "d = np.zeros((N,N))\n",
        "# Calculate distance matrix\n",
        "for i in range(N):\n",
        "    for j in range(N):\n",
        "        d[i, j] = np.sqrt((city_x[i] - city_x[j])**2 + (city_y[i] - city_y[j])**2)\n",
        "\n",
        "print(d);"
      ],
      "metadata": {
        "colab": {
          "base_uri": "https://localhost:8080/"
        },
        "id": "9XAvoyJIz8_s",
        "outputId": "410b4a22-b98d-4fdf-b2aa-650883123316"
      },
      "execution_count": 7,
      "outputs": [
        {
          "output_type": "stream",
          "name": "stdout",
          "text": [
            "[[0.         0.71587133 0.12201206 0.35309423 0.93386305 0.79039236\n",
            "  0.3361123  0.61192594 0.26322304 0.34177371]\n",
            " [0.71587133 0.         0.79945093 0.36542281 0.47926097 0.08780482\n",
            "  0.80654484 0.17810298 0.53993344 0.56152063]\n",
            " [0.12201206 0.79945093 0.         0.44749747 0.96159319 0.86811445\n",
            "  0.24934597 0.67651113 0.29039536 0.46378551]\n",
            " [0.35309423 0.36542281 0.44749747 0.         0.67698023 0.44432002\n",
            "  0.52023117 0.29513484 0.24839027 0.26657861]\n",
            " [0.93386305 0.47926097 0.96159319 0.67698023 0.         0.42219267\n",
            "  0.83511023 0.3972864  0.67551966 0.93906992]\n",
            " [0.79039236 0.08780482 0.86811445 0.44432002 0.42219267 0.\n",
            "  0.85590902 0.2092334  0.59816087 0.64892159]\n",
            " [0.3361123  0.80654484 0.24934597 0.52023117 0.83511023 0.85590902\n",
            "  0.         0.64739388 0.27683133 0.64299302]\n",
            " [0.61192594 0.17810298 0.67651113 0.29513484 0.3972864  0.2092334\n",
            "  0.64739388 0.         0.39615534 0.54677928]\n",
            " [0.26322304 0.53993344 0.29039536 0.24839027 0.67551966 0.59816087\n",
            "  0.27683133 0.39615534 0.         0.43037431]\n",
            " [0.34177371 0.56152063 0.46378551 0.26657861 0.93906992 0.64892159\n",
            "  0.64299302 0.54677928 0.43037431 0.        ]]\n"
          ]
        }
      ]
    },
    {
      "cell_type": "code",
      "source": [
        "# Set parameters for network energy function\n",
        "#A : controls the impact of connections between the nodes in the same column of the weight matrix.\n",
        "#B : controls the impact of connections between the nodes in the same row of the weight matrix.\n",
        "#C : controls the overall level of activation in the network.\n",
        "#D : controls the input of the connection between b/w  neighboring nodes.\n",
        "\n",
        "A = 500 #penalize short edges and encourage long edges.\n",
        "B = 500 #penalize the intersection of edges. \n",
        "C = 1000 #encourage the edges to connect to each other in a cycle.\n",
        "D = 500 #encourage the edges to connect to each other in a cycle.\n",
        "\n",
        "\n",
        "alpha = 0.0001 #to control the strength of the weigth update during learning"
      ],
      "metadata": {
        "id": "o3bhLPd20HUv"
      },
      "execution_count": 8,
      "outputs": []
    },
    {
      "cell_type": "code",
      "source": [
        "# x-v-value of each node, y-u-input potential, u0-gamma\n",
        "def hopfield():\n",
        "    u0 = 0.02\n",
        "    toend = 0\n",
        "    udao = np.zeros((N, N))\n",
        "    ctr = 0\n",
        "    while toend == 0:\n",
        "        ctr += 1\n",
        "        # U initialization\n",
        "        #v - initial state of the network which will converge towards soln for TSP\n",
        "        v = np.random.rand(N,N)\n",
        "        #u - input potential of each node.\n",
        "        u = np.ones([N, N])*(-u0*np.log(N-1)/2)\n",
        "\n",
        "        u += u*0.91 \n",
        "        #increased u by 91% to adjust fir the symmetry b/w input output  in the energy function.\n",
        "        for _ in range(100000):\n",
        "            for vx in range(N):\n",
        "                for vi in range(N):\n",
        "                    j1, j2, j3, j4 = 0, 0, 0, 0\n",
        "                    #these are the parameters calculated to update the u of node in the direction that will reduce the energy function.\n",
        "\n",
        "                    \n",
        "                    # derivative 1 (sum over columns j!=vi)\n",
        "                    for j in range(N):\n",
        "                        if j != vi:\n",
        "                            j1 += v[vx, j]\n",
        "                    j1 *= -A\n",
        "\n",
        "                    # derivative 2 (sum over rows y!=x)\n",
        "                    for y in range(N):\n",
        "                        if y != vx:\n",
        "                            j2 += v[y, vi]\n",
        "                    j2 *= -B\n",
        "\n",
        "                    # derivative 3 (overall sum)\n",
        "                    j3 = np.sum(v)\n",
        "                    j3 = -C*(j3-N)\n",
        "\n",
        "                    # derivative 4\n",
        "                    for y in range(N):\n",
        "                        if y != vx:\n",
        "                            if vi == 0:\n",
        "                                j4 += d[vx, y]*(v[y, vi+1]+v[y, N-1])\n",
        "                            elif vi == N-1:\n",
        "                                j4 += d[vx, y]*(v[y, vi-1]+v[y, 0])\n",
        "                            else:\n",
        "                                j4 += d[vx, y]*(v[y, vi+1]+v[y, vi-1])\n",
        "                    j4 *= -D\n",
        "                    udao[vx, vi] = -u[vx, vi]+j1+j2+j3+j4\n",
        "\n",
        "\n",
        "            \n",
        "\n",
        "            # update status and derivatives\n",
        "             #status of the system is updated by adding the derivative of the energy function with respect to the current status\n",
        "            u = u + alpha*udao\n",
        "           \n",
        "\n",
        "               # calculates the output node value based on the input potential u using a sigmoidal activation function.\n",
        "            v = (1+np.tanh(u/u0)) / 2\n",
        "         \n",
        "\n",
        "\n",
        "            # threshold\n",
        "            # thresholding step is used to convert the output values from the Hopfield network to binary values.\n",
        "            for vx in range(N):\n",
        "                for vi in range(N):\n",
        "                    if(v[vx, vi] < 0.7):\n",
        "                        v[vx, vi] = 0\n",
        "                    if(v[vx, vi] >= 0.7):\n",
        "                        v[vx, vi]=1\n",
        "            \n",
        "        # testing whether solution is legal\n",
        "        t1, t2, t3 = 0, 0, 0\n",
        "\n",
        "        # require total of N-nodes with 1 value\n",
        "        t1=0;\n",
        "        for vx in range(N):\n",
        "            for vi in range(N):\n",
        "                t1+=v[vx, vi]\n",
        "\n",
        "        # allow only one node in each row equal 1\n",
        "        t2=0\n",
        "        for x in range(N):\n",
        "            for i in range(N-1):\n",
        "                for j in range(i+1, N):\n",
        "                    t2+=np.multiply(v[x, i], v[x, j])\n",
        "\n",
        "        # allow only one node in each column equal 1\n",
        "        t3=0\n",
        "        for i in range(N):\n",
        "            for x in range(N-1):\n",
        "                for y in range(x+1, N):\n",
        "                    t3+=np.multiply(v[x, i], v[y, i])\n",
        "\n",
        "        # stop the loop after getting the valid solution\n",
        "        if t1 == N and t2 == 0 and t3 == 0:\n",
        "            toend = 1\n",
        "        else:\n",
        "            toend = 0\n",
        "\n",
        "    return(v, ctr)"
      ],
      "metadata": {
        "id": "Bvva9Vb80ILv"
      },
      "execution_count": 9,
      "outputs": []
    },
    {
      "cell_type": "code",
      "source": [
        "def total_distance(v):\n",
        "  #calculates the total distance of the path obtained by visiting the cities in the order specified by the input binary matrix \n",
        "   \n",
        "    city_x_final = np.zeros((N+1))\n",
        "    city_y_final = np.zeros((N+1))\n",
        "\n",
        "    for j in range(N):\n",
        "        for i in range(N):\n",
        "            if v[i,j] == 1:\n",
        "                city_x_final[j] = city_x[i]\n",
        "                city_y_final[j] = city_y[i]\n",
        "\n",
        "    city_x_final[N] = city_x_final[0]\n",
        "    city_y_final[N] = city_y_final[0]\n",
        "\n",
        "    # calculate the total distance\n",
        "    td = 0\n",
        "    for i in range(N-1):\n",
        "        td += np.sqrt((city_x_final[i] - city_x_final[i+1])**2\n",
        "                    + (city_y_final[i] - city_y_final[i+1])**2)\n",
        "    td += np.sqrt((city_x_final[N-1] - city_x_final[0])**2\n",
        "                + (city_y_final[N-1] - city_y_final[0])**2)\n",
        "    \n",
        "    return(td, city_x_final, city_y_final)"
      ],
      "metadata": {
        "id": "7B8kYm0c0LBQ"
      },
      "execution_count": 10,
      "outputs": []
    },
    {
      "cell_type": "code",
      "source": [
        "v = np.zeros([N,N])\n",
        "\n",
        "ct = 0\n",
        "\n",
        "min_dist = 20\n",
        "best_path = None\n",
        "\n",
        "for i in range(10):\n",
        "    v, steps = hopfield()\n",
        "    td, _, _ = total_distance(v)\n",
        "    print(f\"Epoch {i}: Ran for {steps} steps, total distance {td}\")\n",
        "    if td < min_dist:\n",
        "        min_dist = td\n",
        "        best_path = v\n",
        "print(min_dist)\n",
        "print(best_path)\n",
        "#If the total distance is less than the previous minimum distance, it updates the minimum distance and stores the binary matrix as the best path."
      ],
      "metadata": {
        "colab": {
          "base_uri": "https://localhost:8080/",
          "height": 391
        },
        "id": "mWFvApdC0Nqx",
        "outputId": "cff06845-1b76-4b4e-eacf-1f6c451b9cae"
      },
      "execution_count": 11,
      "outputs": [
        {
          "output_type": "stream",
          "name": "stdout",
          "text": [
            "Epoch 0: Ran for 3 steps, total distance 3.377877595726626\n",
            "Epoch 1: Ran for 6 steps, total distance 3.4630645633135866\n"
          ]
        },
        {
          "output_type": "error",
          "ename": "KeyboardInterrupt",
          "evalue": "ignored",
          "traceback": [
            "\u001b[0;31m---------------------------------------------------------------------------\u001b[0m",
            "\u001b[0;31mKeyboardInterrupt\u001b[0m                         Traceback (most recent call last)",
            "\u001b[0;32m<ipython-input-11-c659eb6ee822>\u001b[0m in \u001b[0;36m<module>\u001b[0;34m\u001b[0m\n\u001b[1;32m      7\u001b[0m \u001b[0;34m\u001b[0m\u001b[0m\n\u001b[1;32m      8\u001b[0m \u001b[0;32mfor\u001b[0m \u001b[0mi\u001b[0m \u001b[0;32min\u001b[0m \u001b[0mrange\u001b[0m\u001b[0;34m(\u001b[0m\u001b[0;36m10\u001b[0m\u001b[0;34m)\u001b[0m\u001b[0;34m:\u001b[0m\u001b[0;34m\u001b[0m\u001b[0;34m\u001b[0m\u001b[0m\n\u001b[0;32m----> 9\u001b[0;31m     \u001b[0mv\u001b[0m\u001b[0;34m,\u001b[0m \u001b[0msteps\u001b[0m \u001b[0;34m=\u001b[0m \u001b[0mhopfield\u001b[0m\u001b[0;34m(\u001b[0m\u001b[0;34m)\u001b[0m\u001b[0;34m\u001b[0m\u001b[0;34m\u001b[0m\u001b[0m\n\u001b[0m\u001b[1;32m     10\u001b[0m     \u001b[0mtd\u001b[0m\u001b[0;34m,\u001b[0m \u001b[0m_\u001b[0m\u001b[0;34m,\u001b[0m \u001b[0m_\u001b[0m \u001b[0;34m=\u001b[0m \u001b[0mtotal_distance\u001b[0m\u001b[0;34m(\u001b[0m\u001b[0mv\u001b[0m\u001b[0;34m)\u001b[0m\u001b[0;34m\u001b[0m\u001b[0;34m\u001b[0m\u001b[0m\n\u001b[1;32m     11\u001b[0m     \u001b[0mprint\u001b[0m\u001b[0;34m(\u001b[0m\u001b[0;34mf\"Epoch {i}: Ran for {steps} steps, total distance {td}\"\u001b[0m\u001b[0;34m)\u001b[0m\u001b[0;34m\u001b[0m\u001b[0;34m\u001b[0m\u001b[0m\n",
            "\u001b[0;32m<ipython-input-9-ef5c3bdabac0>\u001b[0m in \u001b[0;36mhopfield\u001b[0;34m()\u001b[0m\n\u001b[1;32m     36\u001b[0m                     \u001b[0;31m# derivative 3 (overall sum)\u001b[0m\u001b[0;34m\u001b[0m\u001b[0;34m\u001b[0m\u001b[0;34m\u001b[0m\u001b[0m\n\u001b[1;32m     37\u001b[0m                     \u001b[0mj3\u001b[0m \u001b[0;34m=\u001b[0m \u001b[0mnp\u001b[0m\u001b[0;34m.\u001b[0m\u001b[0msum\u001b[0m\u001b[0;34m(\u001b[0m\u001b[0mv\u001b[0m\u001b[0;34m)\u001b[0m\u001b[0;34m\u001b[0m\u001b[0;34m\u001b[0m\u001b[0m\n\u001b[0;32m---> 38\u001b[0;31m                     \u001b[0mj3\u001b[0m \u001b[0;34m=\u001b[0m \u001b[0;34m-\u001b[0m\u001b[0mC\u001b[0m\u001b[0;34m*\u001b[0m\u001b[0;34m(\u001b[0m\u001b[0mj3\u001b[0m\u001b[0;34m-\u001b[0m\u001b[0mN\u001b[0m\u001b[0;34m)\u001b[0m\u001b[0;34m\u001b[0m\u001b[0;34m\u001b[0m\u001b[0m\n\u001b[0m\u001b[1;32m     39\u001b[0m \u001b[0;34m\u001b[0m\u001b[0m\n\u001b[1;32m     40\u001b[0m                     \u001b[0;31m# derivative 4\u001b[0m\u001b[0;34m\u001b[0m\u001b[0;34m\u001b[0m\u001b[0;34m\u001b[0m\u001b[0m\n",
            "\u001b[0;31mKeyboardInterrupt\u001b[0m: "
          ]
        }
      ]
    },
    {
      "cell_type": "code",
      "source": [
        "#search for 1 column wise in  the best path matrix\n",
        "def get_route(v):\n",
        "    route = \"\"\n",
        "    for j in range(v.shape[1]):\n",
        "        route += str(np.argmax(v[:, j])) + ' -> '\n",
        "        #For each column, it finds the row with the highest value (which will be 1 in the case of the Hopfield network), using the np.argmax() function.\n",
        "#after the loop has finished, it appends the index of the first city to the route string to complete the tour.\n",
        "\n",
        "    return (route + str(np.argmax(v[:, 0])))"
      ],
      "metadata": {
        "id": "wVgqsgyk0Sff"
      },
      "execution_count": 12,
      "outputs": []
    },
    {
      "cell_type": "code",
      "source": [
        "print(get_route(best_path))"
      ],
      "metadata": {
        "colab": {
          "base_uri": "https://localhost:8080/"
        },
        "id": "P1OdDllE0UkA",
        "outputId": "58867b17-9557-4517-d342-78a79b533551"
      },
      "execution_count": 13,
      "outputs": [
        {
          "output_type": "stream",
          "name": "stdout",
          "text": [
            "2 -> 6 -> 0 -> 9 -> 7 -> 1 -> 5 -> 4 -> 3 -> 8 -> 2\n"
          ]
        }
      ]
    },
    {
      "cell_type": "code",
      "source": [
        "def get_route_indices(v):\n",
        "    indices = []\n",
        "    for j in range(v.shape[1]):\n",
        "        indices.append(np.argmax(v[:, j]))\n",
        "    indices.append(np.argmax(v[:, 0]))\n",
        "    return indices"
      ],
      "metadata": {
        "id": "bk8CAU5p0VZ8"
      },
      "execution_count": 14,
      "outputs": []
    },
    {
      "cell_type": "code",
      "source": [
        "indices = get_route_indices(best_path)\n",
        "print(indices)"
      ],
      "metadata": {
        "colab": {
          "base_uri": "https://localhost:8080/"
        },
        "id": "Ttt0LFEy0Yd-",
        "outputId": "7280566f-cb41-48ae-a664-ca94cca3abed"
      },
      "execution_count": 15,
      "outputs": [
        {
          "output_type": "stream",
          "name": "stdout",
          "text": [
            "[2, 6, 0, 9, 7, 1, 5, 4, 3, 8, 2]\n"
          ]
        }
      ]
    },
    {
      "cell_type": "code",
      "source": [
        "# indices = get_route_indices(best_path)\n",
        "for i in indices[1:]:\n",
        "    plt.plot([city_x[i], city_x[i-1]], [city_y[i], city_y[i-1]], '-')\n",
        "plt.show()"
      ],
      "metadata": {
        "colab": {
          "base_uri": "https://localhost:8080/",
          "height": 265
        },
        "id": "4neBJ1x_0bru",
        "outputId": "8e9e0438-e4f0-4c17-8baf-6c842585bb97"
      },
      "execution_count": 16,
      "outputs": [
        {
          "output_type": "display_data",
          "data": {
            "text/plain": [
              "<Figure size 432x288 with 1 Axes>"
            ],
            "image/png": "[encoded data removed]"
          },
          "metadata": {
            "needs_background": "light"
          }
        }
      ]
    }
  ]
}