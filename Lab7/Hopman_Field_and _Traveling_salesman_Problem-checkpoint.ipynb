{
 "cells": [
  {
   "cell_type": "code",
   "execution_count": null,
   "metadata": {
    "id": "BGBXD9j37sTY"
   },
   "outputs": [],
   "source": [
    "from imageio import imread\n",
    "import numpy as np\n",
    "import matplotlib.pyplot as plt\n",
    "import copy\n",
    "\n",
    "from skimage import data, io, filters\n",
    "\n",
    "from PIL import Image\n",
    "from skimage.transform import resize\n",
    "import random\n",
    "%matplotlib inline"
   ]
  },
  {
   "cell_type": "code",
   "execution_count": null,
   "metadata": {
    "id": "WkBf4C5J9YrF"
   },
   "outputs": [],
   "source": [
    "# Useful functions\n",
    "def IsScalar(x):\n",
    "    if type(x) in (list, np.ndarray,):\n",
    "        return False\n",
    "    else:\n",
    "        return True\n",
    "\n",
    "def Thresh(x):\n",
    "    if IsScalar(x):\n",
    "        val = 1 if x>0 else -1\n",
    "    else:\n",
    "        val = np.ones_like(x)\n",
    "        val[x<0] = -1.\n",
    "    return val\n",
    "\n",
    "def Hamming(x, y):\n",
    "    '''\n",
    "        d = Hamming(x,y)\n",
    "        \n",
    "        Hamming distance between two binary vectors x and y.\n",
    "        It's the number of digits that differ.\n",
    "        \n",
    "        Inputs:\n",
    "          x and y are arrays of binary vectors, and can be either {0,1} or {-1,1}\n",
    "        \n",
    "        Output:\n",
    "          d is the number of places where the inputs differ\n",
    "    '''\n",
    "    d = []\n",
    "    for xx, yy in zip(x,y):\n",
    "        dd = 0.\n",
    "        for xxx,yyy in zip(xx,yy):\n",
    "            if xxx==1 and yyy!=1:\n",
    "                dd += 1.\n",
    "            elif yyy==1 and xxx!=1:\n",
    "                dd += 1.\n",
    "        d.append(dd)\n",
    "    return d\n",
    "\n",
    "def Perturb(x, p=0.1):\n",
    "    '''\n",
    "        y = Perturb(x, p=0.1)\n",
    "        \n",
    "        Apply binary noise to x. With probability p, each bit will be randomly\n",
    "        set to -1 or 1.\n",
    "        \n",
    "        Inputs:\n",
    "          x is an array of binary vectors of {-1,1}\n",
    "          p is the probability of each bit being randomly flipped\n",
    "        \n",
    "        Output:\n",
    "          y is an array of binary vectors of {-1,1}\n",
    "    '''\n",
    "    y = copy.deepcopy(x)\n",
    "    for yy in y:\n",
    "        for k in range(len(yy)):\n",
    "            if np.random.rand()<p:\n",
    "                yy[k] = Thresh(np.random.randint(2)*2-1)\n",
    "    return y"
   ]
  },
  {
   "cell_type": "code",
   "execution_count": null,
   "metadata": {
    "id": "NnYzT_oZ-HUq"
   },
   "outputs": [],
   "source": [
    "def Update(W, x, b):\n",
    "    xnew = x @ W - b\n",
    "    return Thresh(xnew)"
   ]
  },
  {
   "cell_type": "code",
   "execution_count": null,
   "metadata": {
    "id": "9iZc9drw77kC"
   },
   "outputs": [],
   "source": [
    "letters = []\n",
    "letters.append(imread('/content/A.png'))\n",
    "letters.append(imread('/content/B.png'))\n",
    "letters.append(imread('/content/C.png'))\n",
    "letters.append(imread('/content/D.png'))\n",
    "n = len(letters)\n",
    "N = len(letters[0].flatten())\n",
    "X = np.zeros((n, N))\n",
    "for idx,img in enumerate(letters):\n",
    "    X[idx,:] = Thresh(np.array([img.flatten()-0.5]))"
   ]
  },
  {
   "cell_type": "code",
   "execution_count": null,
   "metadata": {
    "colab": {
     "base_uri": "https://localhost:8080/",
     "height": 225
    },
    "id": "O9czm-G19lh9",
    "outputId": "e514092a-b9e1-43db-9711-444de154548a"
   },
   "outputs": [
    {
     "data": {
      "image/png": "[encoded data removed]",
      "text/plain": [
       "<Figure size 1152x288 with 4 Axes>"
      ]
     },
     "metadata": {
      "needs_background": "light"
     },
     "output_type": "display_data"
    }
   ],
   "source": [
    "plt.figure(figsize=(16,4))\n",
    "for k in range(n):\n",
    "    plt.subplot(1,n,k+1);\n",
    "    plt.imshow(np.reshape(X[k], (6,6)), cmap='tab20c_r'); plt.axis('off');"
   ]
  },
  {
   "cell_type": "code",
   "execution_count": null,
   "metadata": {
    "colab": {
     "base_uri": "https://localhost:8080/"
    },
    "id": "FKDAoxS_9sZd",
    "outputId": "104da884-909c-4735-ce33-ed4834133e2f"
   },
   "outputs": [
    {
     "data": {
      "text/plain": [
       "array([[36.,  0.,  0., 12.],\n",
       "       [ 0., 36.,  0., 12.],\n",
       "       [ 0.,  0., 36.,  4.],\n",
       "       [12., 12.,  4., 36.]])"
      ]
     },
     "execution_count": 36,
     "metadata": {},
     "output_type": "execute_result"
    }
   ],
   "source": [
    "X@X.T"
   ]
  },
  {
   "cell_type": "code",
   "execution_count": null,
   "metadata": {
    "id": "YmQZN9rq9wJm"
   },
   "outputs": [],
   "source": [
    "# Connection weights and biases\n",
    "b = np.zeros((1,N))\n",
    "b = np.sum(X, axis=0) / n\n",
    "W = ( X.T @ X ) / n - np.eye(N)\n",
    "W0 = copy.deepcopy(W)"
   ]
  },
  {
   "cell_type": "code",
   "execution_count": null,
   "metadata": {
    "colab": {
     "base_uri": "https://localhost:8080/",
     "height": 265
    },
    "id": "JJyZAcT89y53",
    "outputId": "f794c0d8-c10c-45db-80ed-08f99cc8198b"
   },
   "outputs": [
    {
     "name": "stdout",
     "output_type": "stream",
     "text": [
      "Class 3 with [7.0] errors\n"
     ]
    },
    {
     "data": {
      "image/png": "[encoded data removed]",
      "text/plain": [
       "<Figure size 432x288 with 1 Axes>"
      ]
     },
     "metadata": {
      "needs_background": "light"
     },
     "output_type": "display_data"
    }
   ],
   "source": [
    "# Perturbed memory\n",
    "k = np.random.randint(n)\n",
    "Y = Perturb( X , p=0.2)\n",
    "x = Y[k:k+1,]\n",
    "x[0,24:] = -1.\n",
    "err = Hamming(x, X[k:k+1,:])\n",
    "print('Class '+str(k)+' with '+str(err)+' errors')\n",
    "x_orig = copy.deepcopy(x)\n",
    "#plt.imshow(np.reshape(x,[28,28]), cmap='gray'); plt.axis('off');\n",
    "plt.imshow(np.reshape(x,[6,6]), cmap='tab20c_r'); plt.axis('off');"
   ]
  },
  {
   "cell_type": "code",
   "execution_count": null,
   "metadata": {
    "id": "hJIBUpTa9441"
   },
   "outputs": [],
   "source": [
    "xs = copy.deepcopy(x_orig)\n",
    "xa = copy.deepcopy(x)\n",
    "# Synchronous updating\n",
    "n_iters = 2\n",
    "for idx in range(n_iters):\n",
    "    xs = Update(W, xs, b)"
   ]
  },
  {
   "cell_type": "code",
   "execution_count": null,
   "metadata": {
    "id": "RyZ4gK84-M64"
   },
   "outputs": [],
   "source": [
    "# Asynchronous updating\n",
    "n_iters = 10\n",
    "for count in range(n_iters):\n",
    "    node_idx = list(range(N))\n",
    "    np.random.shuffle(node_idx)\n",
    "    for idx in node_idx:\n",
    "        ic = xa@W[:,idx] - b[idx]\n",
    "        xa[0,idx] = Thresh(ic)"
   ]
  },
  {
   "cell_type": "code",
   "execution_count": null,
   "metadata": {
    "colab": {
     "base_uri": "https://localhost:8080/"
    },
    "id": "-sSATXs2-Pqr",
    "outputId": "ea701bdc-4c91-4ca9-8dbd-ac90f6f305e9"
   },
   "outputs": [
    {
     "name": "stdout",
     "output_type": "stream",
     "text": [
      "Correct class is 3\n",
      "Synchronous updating\n",
      "Memory 0 has error 12.0\n",
      "Memory 1 has error 12.0\n",
      "Memory 2 has error 16.0\n",
      "Memory 3 has error 0.0\n",
      "Asynchronous updating\n",
      "Memory 0 has error 14.0\n",
      "Memory 1 has error 16.0\n",
      "Memory 2 has error 18.0\n",
      "Memory 3 has error 6.0\n"
     ]
    }
   ],
   "source": [
    "print('Correct class is '+str(k))\n",
    "print('Synchronous updating')\n",
    "for idx,t in enumerate(X):\n",
    "    ds = Hamming(xs, [t])[0]\n",
    "    print('Memory '+str(idx)+' has error '+str(ds))\n",
    "print('Asynchronous updating')\n",
    "for idx,t in enumerate(X):\n",
    "    da = Hamming(xa, [t])[0]\n",
    "    print('Memory '+str(idx)+' has error '+str(da))"
   ]
  },
  {
   "cell_type": "code",
   "execution_count": null,
   "metadata": {
    "colab": {
     "base_uri": "https://localhost:8080/",
     "height": 199
    },
    "id": "cIbZNAQz-T5z",
    "outputId": "4197d8e0-9d19-41d7-f137-87e1b91ee4ca"
   },
   "outputs": [
    {
     "data": {
      "image/png": "[encoded data removed]",
      "text/plain": [
       "<Figure size 432x288 with 2 Axes>"
      ]
     },
     "metadata": {
      "needs_background": "light"
     },
     "output_type": "display_data"
    }
   ],
   "source": [
    "plt.subplot(1,2,1); plt.imshow(np.reshape(xs,[6,6]), cmap='tab20c_r'); plt.title('Synchronous'); plt.axis('off');\n",
    "plt.subplot(1,2,2); plt.imshow(np.reshape(xa,[6,6]), cmap='tab20c_r'); plt.title('Asynchronous'); plt.axis('off');"
   ]
  },
  {
   "cell_type": "code",
   "execution_count": null,
   "metadata": {
    "colab": {
     "base_uri": "https://localhost:8080/"
    },
    "id": "5ubf3kr4z4lO",
    "outputId": "a4c6d4da-93ab-4303-f3b1-e50daf03eead"
   },
   "outputs": [
    {
     "name": "stdout",
     "output_type": "stream",
     "text": [
      "The co-ordinates of the 10 cities are:\n",
      "(0.5504821541879973, 0.7860489921862431)\n",
      "(0.6702405793713988, 0.32279556281763366)\n",
      "(0.8775660683942788, 0.6542037749282681)\n",
      "(0.649167244823225, 0.6154954859085016)\n",
      "(0.37364118482578257, 0.3017603286228727)\n",
      "(0.40999369667982966, 0.1356323016069787)\n",
      "(0.5676920616960701, 0.003812269669174584)\n",
      "(0.7096231365043478, 0.6402287526985037)\n",
      "(0.47147768618155805, 0.49202166737080477)\n",
      "(0.3989911480530597, 0.7403355047678173)\n"
     ]
    }
   ],
   "source": [
    "# Number of cities\n",
    "N = 10\n",
    "\n",
    "city_x = np.random.rand((10))\n",
    "city_y = np.random.rand((10))\n",
    "\n",
    "print('The co-ordinates of the 10 cities are:')\n",
    "for city in zip(city_x, city_y):\n",
    "    print(city)"
   ]
  },
  {
   "cell_type": "code",
   "execution_count": null,
   "metadata": {
    "colab": {
     "base_uri": "https://localhost:8080/",
     "height": 298
    },
    "id": "NqepsGcyz5xD",
    "outputId": "3412d9ca-f975-4a5f-f81b-1469265cff06"
   },
   "outputs": [
    {
     "data": {
      "text/plain": [
       "Text(0.5, 1.0, 'Map of cities')"
      ]
     },
     "execution_count": 44,
     "metadata": {},
     "output_type": "execute_result"
    },
    {
     "data": {
      "image/png": "[encoded data removed]",
      "text/plain": [
       "<Figure size 432x288 with 1 Axes>"
      ]
     },
     "metadata": {
      "needs_background": "light"
     },
     "output_type": "display_data"
    }
   ],
   "source": [
    "plt.plot(city_x, city_y, 'o')\n",
    "plt.title('Map of cities')"
   ]
  },
  {
   "cell_type": "code",
   "execution_count": null,
   "metadata": {
    "colab": {
     "base_uri": "https://localhost:8080/"
    },
    "id": "9XAvoyJIz8_s",
    "outputId": "262b1155-2c32-4804-f611-2774cd4e9ab8"
   },
   "outputs": [
    {
     "name": "stdout",
     "output_type": "stream",
     "text": [
      "[[0.         0.47848283 0.35265713 0.1970463  0.51556594 0.66541632\n",
      "  0.78242602 0.21584577 0.30445652 0.15823795]\n",
      " [0.47848283 0.         0.39091593 0.29345754 0.29734438 0.32055971\n",
      "  0.33506199 0.31986687 0.26104437 0.4979115 ]\n",
      " [0.35265713 0.39091593 0.         0.23165568 0.61494445 0.69824086\n",
      "  0.72043807 0.16852338 0.43727658 0.48626395]\n",
      " [0.1970463  0.29345754 0.23165568 0.         0.41754564 0.53616477\n",
      "  0.61708554 0.06531959 0.21637782 0.27959455]\n",
      " [0.51556594 0.29734438 0.61494445 0.41754564 0.         0.17005889\n",
      "  0.35556826 0.47691168 0.21394242 0.43930719]\n",
      " [0.66541632 0.32055971 0.69824086 0.53616477 0.17005889 0.\n",
      "  0.2055366  0.58685209 0.36165406 0.60480329]\n",
      " [0.78242602 0.33506199 0.72043807 0.61708554 0.35556826 0.2055366\n",
      "  0.         0.6520509  0.49759986 0.75559677]\n",
      " [0.21584577 0.31986687 0.16852338 0.06531959 0.47691168 0.58685209\n",
      "  0.6520509  0.         0.28049705 0.3263642 ]\n",
      " [0.30445652 0.26104437 0.43727658 0.21637782 0.21394242 0.36165406\n",
      "  0.49759986 0.28049705 0.         0.25867752]\n",
      " [0.15823795 0.4979115  0.48626395 0.27959455 0.43930719 0.60480329\n",
      "  0.75559677 0.3263642  0.25867752 0.        ]]\n"
     ]
    }
   ],
   "source": [
    "d = np.zeros((N,N))\n",
    "# Calculate distance matrix\n",
    "for i in range(N):\n",
    "    for j in range(N):\n",
    "        d[i, j] = np.sqrt((city_x[i] - city_x[j])**2 + (city_y[i] - city_y[j])**2)\n",
    "\n",
    "print(d);"
   ]
  },
  {
   "cell_type": "code",
   "execution_count": null,
   "metadata": {
    "id": "o3bhLPd20HUv"
   },
   "outputs": [],
   "source": [
    "# Set parameters for network energy function\n",
    "#A : controls the impact of connections between the nodes in the same column of the weight matrix.\n",
    "#B : controls the impact of connections between the nodes in the same row of the weight matrix.\n",
    "#C : controls the overall level of activation in the network.\n",
    "#D : controls the input of the connection between b/w  neighboring nodes.\n",
    "\n",
    "A = 500 #penalize short edges and encourage long edges.\n",
    "B = 500 #penalize the intersection of edges. \n",
    "C = 1000 #encourage the edges to connect to each other in a cycle.\n",
    "D = 500 #encourage the edges to connect to each other in a cycle.\n",
    "\n",
    "\n",
    "alpha = 0.0001 #to control the strength of the weigth update during learning"
   ]
  },
  {
   "cell_type": "code",
   "execution_count": null,
   "metadata": {
    "id": "Bvva9Vb80ILv"
   },
   "outputs": [],
   "source": [
    "# x-v-value of each node, y-u-input potential, u0-gamma\n",
    "def hopfield():\n",
    "    u0 = 0.02\n",
    "    toend = 0\n",
    "    udao = np.zeros((N, N))\n",
    "    ctr = 0\n",
    "    while toend == 0:\n",
    "        ctr += 1\n",
    "        # U initialization\n",
    "        #v - initial state of the network which will converge towards soln for TSP\n",
    "        v = np.random.rand(N,N)\n",
    "        #u - input potential of each node.\n",
    "        u = np.ones([N, N])*(-u0*np.log(N-1)/2)\n",
    "\n",
    "        u += u*0.91 \n",
    "        #increased u by 91% to adjust fir the symmetry b/w input output  in the energy function.\n",
    "        for _ in range(1000):\n",
    "            for vx in range(N):\n",
    "                for vi in range(N):\n",
    "                    j1, j2, j3, j4 = 0, 0, 0, 0\n",
    "                    #these are the parameters calculated to update the u of node in the direction that will reduce the energy function.\n",
    "\n",
    "                    \n",
    "                    # derivative 1 (sum over columns j!=vi)\n",
    "                    for j in range(N):\n",
    "                        if j != vi:\n",
    "                            j1 += v[vx, j]\n",
    "                    j1 *= -A\n",
    "\n",
    "                    # derivative 2 (sum over rows y!=x)\n",
    "                    for y in range(N):\n",
    "                        if y != vx:\n",
    "                            j2 += v[y, vi]\n",
    "                    j2 *= -B\n",
    "\n",
    "                    # derivative 3 (overall sum)\n",
    "                    j3 = np.sum(v)\n",
    "                    j3 = -C*(j3-N)\n",
    "\n",
    "                    # derivative 4\n",
    "                    for y in range(N):\n",
    "                        if y != vx:\n",
    "                            if vi == 0:\n",
    "                                j4 += d[vx, y]*(v[y, vi+1]+v[y, N-1])\n",
    "                            elif vi == N-1:\n",
    "                                j4 += d[vx, y]*(v[y, vi-1]+v[y, 0])\n",
    "                            else:\n",
    "                                j4 += d[vx, y]*(v[y, vi+1]+v[y, vi-1])\n",
    "                    j4 *= -D\n",
    "                    udao[vx, vi] = -u[vx, vi]+j1+j2+j3+j4\n",
    "\n",
    "\n",
    "            \n",
    "\n",
    "            # update status and derivatives\n",
    "             #status of the system is updated by adding the derivative of the energy function with respect to the current status\n",
    "            u = u + alpha*udao\n",
    "           \n",
    "\n",
    "               # calculates the output node value based on the input potential u using a sigmoidal activation function.\n",
    "            v = (1+np.tanh(u/u0)) / 2\n",
    "         \n",
    "\n",
    "\n",
    "            # threshold\n",
    "            # thresholding step is used to convert the output values from the Hopfield network to binary values.\n",
    "            for vx in range(N):\n",
    "                for vi in range(N):\n",
    "                    if(v[vx, vi] < 0.7):\n",
    "                        v[vx, vi] = 0\n",
    "                    if(v[vx, vi] >= 0.7):\n",
    "                        v[vx, vi]=1\n",
    "            \n",
    "        # testing whether solution is legal\n",
    "        t1, t2, t3 = 0, 0, 0\n",
    "\n",
    "        # require total of N-nodes with 1 value\n",
    "        t1=0;\n",
    "        for vx in range(N):\n",
    "            for vi in range(N):\n",
    "                t1+=v[vx, vi]\n",
    "\n",
    "        # allow only one node in each row equal 1\n",
    "        t2=0\n",
    "        for x in range(N):\n",
    "            for i in range(N-1):\n",
    "                for j in range(i+1, N):\n",
    "                    t2+=np.multiply(v[x, i], v[x, j])\n",
    "\n",
    "        # allow only one node in each column equal 1\n",
    "        t3=0\n",
    "        for i in range(N):\n",
    "            for x in range(N-1):\n",
    "                for y in range(x+1, N):\n",
    "                    t3+=np.multiply(v[x, i], v[y, i])\n",
    "\n",
    "        # stop the loop after getting the valid solution\n",
    "        if t1 == N and t2 == 0 and t3 == 0:\n",
    "            toend = 1\n",
    "        else:\n",
    "            toend = 0\n",
    "\n",
    "    return(v, ctr)"
   ]
  },
  {
   "cell_type": "code",
   "execution_count": null,
   "metadata": {
    "id": "7B8kYm0c0LBQ"
   },
   "outputs": [],
   "source": [
    "def total_distance(v):\n",
    "  #calculates the total distance of the path obtained by visiting the cities in the order specified by the input binary matrix \n",
    "   \n",
    "    city_x_final = np.zeros((N+1))\n",
    "    city_y_final = np.zeros((N+1))\n",
    "\n",
    "    for j in range(N):\n",
    "        for i in range(N):\n",
    "            if v[i,j] == 1:\n",
    "                city_x_final[j] = city_x[i]\n",
    "                city_y_final[j] = city_y[i]\n",
    "\n",
    "    city_x_final[N] = city_x_final[0]\n",
    "    city_y_final[N] = city_y_final[0]\n",
    "\n",
    "    # calculate the total distance\n",
    "    td = 0\n",
    "    for i in range(N-1):\n",
    "        td += np.sqrt((city_x_final[i] - city_x_final[i+1])**2\n",
    "                    + (city_y_final[i] - city_y_final[i+1])**2)\n",
    "    td += np.sqrt((city_x_final[N-1] - city_x_final[0])**2\n",
    "                + (city_y_final[N-1] - city_y_final[0])**2)\n",
    "    \n",
    "    return(td, city_x_final, city_y_final)"
   ]
  },
  {
   "cell_type": "code",
   "execution_count": null,
   "metadata": {
    "colab": {
     "base_uri": "https://localhost:8080/"
    },
    "id": "mWFvApdC0Nqx",
    "outputId": "7b734eb7-3243-4d40-90bc-9775edb26493"
   },
   "outputs": [
    {
     "name": "stdout",
     "output_type": "stream",
     "text": [
      "Epoch 0: Ran for 2 steps, total distance 2.659091831353416\n",
      "Epoch 1: Ran for 2 steps, total distance 2.940567190034368\n",
      "Epoch 2: Ran for 4 steps, total distance 3.055505316317379\n",
      "Epoch 3: Ran for 3 steps, total distance 2.527854903243106\n",
      "Epoch 4: Ran for 1 steps, total distance 2.2214730178268978\n",
      "Epoch 5: Ran for 4 steps, total distance 3.0600485773486565\n",
      "Epoch 6: Ran for 5 steps, total distance 2.8759233651004377\n",
      "Epoch 7: Ran for 1 steps, total distance 2.8598352217946985\n",
      "Epoch 8: Ran for 7 steps, total distance 2.6406598342425034\n",
      "Epoch 9: Ran for 4 steps, total distance 2.8556562079361107\n",
      "2.2214730178268978\n",
      "[[0. 0. 0. 0. 0. 0. 0. 0. 0. 1.]\n",
      " [0. 0. 0. 1. 0. 0. 0. 0. 0. 0.]\n",
      " [1. 0. 0. 0. 0. 0. 0. 0. 0. 0.]\n",
      " [0. 0. 1. 0. 0. 0. 0. 0. 0. 0.]\n",
      " [0. 0. 0. 0. 0. 0. 1. 0. 0. 0.]\n",
      " [0. 0. 0. 0. 0. 1. 0. 0. 0. 0.]\n",
      " [0. 0. 0. 0. 1. 0. 0. 0. 0. 0.]\n",
      " [0. 1. 0. 0. 0. 0. 0. 0. 0. 0.]\n",
      " [0. 0. 0. 0. 0. 0. 0. 1. 0. 0.]\n",
      " [0. 0. 0. 0. 0. 0. 0. 0. 1. 0.]]\n"
     ]
    }
   ],
   "source": [
    "v = np.zeros([N,N])\n",
    "\n",
    "ct = 0\n",
    "\n",
    "min_dist = 20\n",
    "best_path = None\n",
    "\n",
    "for i in range(10):\n",
    "    v, steps = hopfield()\n",
    "    td, _, _ = total_distance(v)\n",
    "    print(f\"Epoch {i}: Ran for {steps} steps, total distance {td}\")\n",
    "    if td < min_dist:\n",
    "        min_dist = td\n",
    "        best_path = v\n",
    "print(min_dist)\n",
    "print(best_path)\n",
    "#If the total distance is less than the previous minimum distance, it updates the minimum distance and stores the binary matrix as the best path."
   ]
  },
  {
   "cell_type": "code",
   "execution_count": null,
   "metadata": {
    "id": "wVgqsgyk0Sff"
   },
   "outputs": [],
   "source": [
    "#search for 1 column wise in  the best path matrix\n",
    "def get_route(v):\n",
    "    route = \"\"\n",
    "    for j in range(v.shape[1]):\n",
    "        route += str(np.argmax(v[:, j])) + ' -> '\n",
    "        #For each column, it finds the row with the highest value (which will be 1 in the case of the Hopfield network), using the np.argmax() function.\n",
    "#after the loop has finished, it appends the index of the first city to the route string to complete the tour.\n",
    "\n",
    "    return (route + str(np.argmax(v[:, 0])))"
   ]
  },
  {
   "cell_type": "code",
   "execution_count": null,
   "metadata": {
    "colab": {
     "base_uri": "https://localhost:8080/"
    },
    "id": "P1OdDllE0UkA",
    "outputId": "f3e49140-0441-4c30-e9d0-3e5d70c0b253"
   },
   "outputs": [
    {
     "name": "stdout",
     "output_type": "stream",
     "text": [
      "2 -> 7 -> 3 -> 1 -> 6 -> 5 -> 4 -> 8 -> 9 -> 0 -> 2\n"
     ]
    }
   ],
   "source": [
    "print(get_route(best_path))"
   ]
  },
  {
   "cell_type": "code",
   "execution_count": null,
   "metadata": {
    "id": "bk8CAU5p0VZ8"
   },
   "outputs": [],
   "source": [
    "def get_route_indices(v):\n",
    "    indices = []\n",
    "    for j in range(v.shape[1]):\n",
    "        indices.append(np.argmax(v[:, j]))\n",
    "    indices.append(np.argmax(v[:, 0]))\n",
    "    return indices"
   ]
  },
  {
   "cell_type": "code",
   "execution_count": null,
   "metadata": {
    "colab": {
     "base_uri": "https://localhost:8080/"
    },
    "id": "Ttt0LFEy0Yd-",
    "outputId": "f64eafaa-1389-4934-a568-c4e651852d37"
   },
   "outputs": [
    {
     "name": "stdout",
     "output_type": "stream",
     "text": [
      "[2, 7, 3, 1, 6, 5, 4, 8, 9, 0, 2]\n"
     ]
    }
   ],
   "source": [
    "indices = get_route_indices(best_path)\n",
    "print(indices)"
   ]
  },
  {
   "cell_type": "code",
   "execution_count": null,
   "metadata": {
    "colab": {
     "base_uri": "https://localhost:8080/",
     "height": 265
    },
    "id": "4neBJ1x_0bru",
    "outputId": "48e1ff70-0267-4dc6-dd38-cae9233733d1"
   },
   "outputs": [
    {
     "data": {
      "image/png": "[encoded data removed]",
      "text/plain": [
       "<Figure size 432x288 with 1 Axes>"
      ]
     },
     "metadata": {
      "needs_background": "light"
     },
     "output_type": "display_data"
    }
   ],
   "source": [
    "# indices = get_route_indices(best_path)\n",
    "for i in indices[1:]:\n",
    "    plt.plot([city_x[i], city_x[i-1]], [city_y[i], city_y[i-1]], '-')\n",
    "plt.show()"
   ]
  }
 ],
 "metadata": {
  "colab": {
   "provenance": []
  },
  "kernelspec": {
   "display_name": "Python 3 (ipykernel)",
   "language": "python",
   "name": "python3"
  },
  "language_info": {
   "codemirror_mode": {
    "name": "ipython",
    "version": 3
   },
   "file_extension": ".py",
   "mimetype": "text/x-python",
   "name": "python",
   "nbconvert_exporter": "python",
   "pygments_lexer": "ipython3",
   "version": "3.9.13"
  }
 },
 "nbformat": 4,
 "nbformat_minor": 1
}
