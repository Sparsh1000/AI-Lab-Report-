{
  "nbformat": 4,
  "nbformat_minor": 0,
  "metadata": {
    "colab": {
      "provenance": []
    },
    "kernelspec": {
      "name": "python3",
      "display_name": "Python 3"
    },
    "language_info": {
      "name": "python"
    }
  },
  "cells": [
    {
      "cell_type": "code",
      "source": [
        "\n",
        "import numpy as np\n",
        "from sklearn.datasets import make_blobs\n",
        "from sklearn.mixture import GaussianMixture\n",
        "from matplotlib import pyplot as plt\n",
        "import seaborn as sns"
      ],
      "metadata": {
        "id": "ALty5_5iUyYo"
      },
      "execution_count": 1,
      "outputs": []
    },
    {
      "cell_type": "code",
      "source": [
        "# function used for visulization using seaborn library where set is used for default values.\n",
        "sns.set()"
      ],
      "metadata": {
        "id": "SjyQuh7CUz_9"
      },
      "execution_count": 2,
      "outputs": []
    },
    {
      "cell_type": "code",
      "source": [
        "# As the csv file contains commas between values we have used delimiter and we are reading our data from file whose file path is given\n",
        "# as first parameter\n",
        "# Data collected is stored as array in X\n",
        "X = np.genfromtxt('2020_em_clustering.csv', delimiter=',')\n",
        "\n",
        "print(X)"
      ],
      "metadata": {
        "colab": {
          "base_uri": "https://localhost:8080/"
        },
        "id": "zpINSCDeU1VJ",
        "outputId": "d1e60168-28eb-40c7-8b80-d20db3ceacfc"
      },
      "execution_count": 6,
      "outputs": [
        {
          "output_type": "stream",
          "name": "stdout",
          "text": [
            "[ 6.68587250e-02 -6.60423374e-01  2.06970324e+00  1.53067801e+00\n",
            "  1.11293989e+00  1.45899611e-01  2.36529315e+00  4.88298397e-02\n",
            "  1.26495234e-01  9.12094405e-01  4.02195175e+00  4.11871728e+00\n",
            "  3.30470935e+00  3.25036423e+00  4.85498246e+00  4.55441706e+00\n",
            "  3.79146590e+00  4.30900734e+00  1.42974169e+00  2.85606479e+00\n",
            "  1.41977182e+00  8.80959578e-02  1.35881591e+00 -7.86208542e-01\n",
            "  3.33557290e+00  1.09081305e+00 -3.32503861e-03  6.44023374e-01\n",
            "  9.41241968e-01  9.91619075e-02  5.05573282e+00  3.43619270e+00\n",
            "  3.31994934e+00  4.63159966e+00  5.41641263e+00  4.26061194e+00\n",
            "  4.92590615e+00  3.95438736e+00  3.92011267e+00  3.48041757e+00]\n"
          ]
        }
      ]
    },
    {
      "cell_type": "code",
      "source": [
        "# determines the size of array x\n",
        "a=X.size\n",
        "# creates a array z all initialised to 0 of size a from array x\n",
        "Z=np.zeros(a)\n",
        "\n",
        "# creates a scatter plot\n",
        "plt.scatter(X,Z)\n",
        "\n",
        "# \n",
        "# plt.plot(X, 'o')"
      ],
      "metadata": {
        "colab": {
          "base_uri": "https://localhost:8080/",
          "height": 285
        },
        "id": "r5MKrXcHU3Th",
        "outputId": "c28e1ce4-6510-4e0c-ed08-d3d80707560d"
      },
      "execution_count": 16,
      "outputs": [
        {
          "output_type": "execute_result",
          "data": {
            "text/plain": [
              "<matplotlib.collections.PathCollection at 0x7fbe38dcdb20>"
            ]
          },
          "metadata": {},
          "execution_count": 16
        },
        {
          "output_type": "display_data",
          "data": {
            "text/plain": [
              "<Figure size 432x288 with 1 Axes>"
            ],
            "image/png": "[encoded data removed]"
          },
          "metadata": {}
        }
      ]
    },
    {
      "cell_type": "code",
      "source": [
        "# initializes gaussian mixture and the parameter here indicates \n",
        "# that we have taken 2 here to fit two gaussian distribution\n",
        "# here two indicates two distinct clusters\n",
        "gmm = GaussianMixture(n_components=2)\n",
        "# function to generate 2d array as fit function takes 2d array\n",
        "Y=X.reshape((-1,1))\n",
        "# fit method  uses the data to estimate the parameters of the Gaussian distributions in the mixture model.\n",
        "gmm.fit(Y)\n",
        "# predict the class labels for clusters\n",
        "labels = gmm.predict(Y)"
      ],
      "metadata": {
        "id": "TwV9KKZkU5sn"
      },
      "execution_count": 17,
      "outputs": []
    },
    {
      "cell_type": "code",
      "source": [
        "print(labels)\n",
        "\n",
        "# y and z are coordinates and according to labels colours are assigned\n",
        "# plt.scatter(Y,Z, c=labels, cmap='viridis');"
      ],
      "metadata": {
        "colab": {
          "base_uri": "https://localhost:8080/"
        },
        "id": "qdJ0pAABUww3",
        "outputId": "1c54a14b-5ef9-4a61-b581-d011b22350f1"
      },
      "execution_count": 20,
      "outputs": [
        {
          "output_type": "stream",
          "name": "stdout",
          "text": [
            "[1 1 1 1 1 1 0 1 1 1 0 0 0 0 0 0 0 0 1 0 1 1 1 1 0 1 1 1 1 1 0 0 0 0 0 0 0\n",
            " 0 0 0]\n"
          ]
        }
      ]
    }
  ]
}